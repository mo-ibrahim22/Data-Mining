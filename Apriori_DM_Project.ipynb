{
  "nbformat": 4,
  "nbformat_minor": 0,
  "metadata": {
    "colab": {
      "provenance": [],
      "include_colab_link": true
    },
    "kernelspec": {
      "name": "python3",
      "display_name": "Python 3"
    },
    "language_info": {
      "name": "python"
    }
  },
  "cells": [
    {
      "cell_type": "markdown",
      "metadata": {
        "id": "view-in-github",
        "colab_type": "text"
      },
      "source": [
        "<a href=\"https://colab.research.google.com/github/mo-ibrahim22/Data-Mining/blob/main/Apriori_DM_Project.ipynb\" target=\"_parent\"><img src=\"https://colab.research.google.com/assets/colab-badge.svg\" alt=\"Open In Colab\"/></a>"
      ]
    },
    {
      "cell_type": "markdown",
      "source": [
        "# **Import libraries**"
      ],
      "metadata": {
        "id": "9s6d8ZapZTpT"
      }
    },
    {
      "cell_type": "code",
      "source": [
        "#Import libraries\n",
        "import pandas as pd\n",
        "from itertools import combinations, chain\n"
      ],
      "metadata": {
        "id": "5ccFPzYTZuAI"
      },
      "execution_count": null,
      "outputs": []
    },
    {
      "cell_type": "markdown",
      "source": [
        "# **Function to generate combinations of items for a given length**"
      ],
      "metadata": {
        "id": "07BB3-I8ZyRu"
      }
    },
    {
      "cell_type": "code",
      "source": [
        "#Function to generate combinations of items for a given length\n",
        "def generate_combinations(items, length):\n",
        "    return list(combinations(items, length))\n"
      ],
      "metadata": {
        "id": "MTnjMAeZZ4Hl"
      },
      "execution_count": null,
      "outputs": []
    },
    {
      "cell_type": "markdown",
      "source": [
        "# **Function to calculate support for a given itemset**"
      ],
      "metadata": {
        "id": "f5Ysso0DZ6DC"
      }
    },
    {
      "cell_type": "code",
      "source": [
        "#Function to calculate support for a given itemset\n",
        "def calculate_support(data, itemset):\n",
        "    return sum(1 for transaction in data if all(item in transaction for item in itemset))\n"
      ],
      "metadata": {
        "id": "EUrcpe2ZaAa8"
      },
      "execution_count": null,
      "outputs": []
    },
    {
      "cell_type": "markdown",
      "source": [
        "# **Function to generate frequent itemsets for a given length**"
      ],
      "metadata": {
        "id": "_nNmnBlfaBdV"
      }
    },
    {
      "cell_type": "code",
      "source": [
        "#Function to generate frequent itemsets for a given length\n",
        "def generate_frequent_itemsets(data, items, min_support, length):\n",
        "    frequent_itemsets = {}\n",
        "    combinations_length = generate_combinations(items, length)\n",
        "\n",
        "    for combination in combinations_length:\n",
        "        support = calculate_support(data, combination)\n",
        "        if support >= min_support:\n",
        "            frequent_itemsets[frozenset(combination)] = support\n",
        "\n",
        "    return frequent_itemsets\n"
      ],
      "metadata": {
        "id": "1P75a4zcaFy9"
      },
      "execution_count": null,
      "outputs": []
    },
    {
      "cell_type": "markdown",
      "source": [
        "# **Function to generate all possible association rules for a given itemset**"
      ],
      "metadata": {
        "id": "ztzKd9GBaKQS"
      }
    },
    {
      "cell_type": "code",
      "source": [
        "#Function to generate all possible association rules for a given itemset\n",
        "def generate_all_possible_rules(itemset):\n",
        "    rules = []\n",
        "    for i in range(1, len(itemset)):\n",
        "        antecedents = list(combinations(itemset, i))\n",
        "        for antecedent in antecedents:\n",
        "            consequent = frozenset(set(itemset) - set(antecedent))\n",
        "            rules.append((frozenset(antecedent), consequent))\n",
        "    return rules\n"
      ],
      "metadata": {
        "id": "uFLW38G8aMw5"
      },
      "execution_count": null,
      "outputs": []
    },
    {
      "cell_type": "markdown",
      "source": [
        "# **Function to filter rules based on confidence and categorize as \"strong\" or \"weak\"**"
      ],
      "metadata": {
        "id": "r_Gy3kFQcNPE"
      }
    },
    {
      "cell_type": "code",
      "source": [
        "#Function to filter rules based on confidence and categorize as \"strong\" or \"weak\"\n",
        "def filter_and_categorize_rules(rules, frequent_itemsets, min_confidence):\n",
        "    categorized_rules = []\n",
        "    for antecedent, consequent in rules:\n",
        "        confidence = frequent_itemsets[antecedent.union(consequent)] / frequent_itemsets[antecedent]\n",
        "        category = \"strong\" if confidence >= min_confidence else \"weak\"\n",
        "        categorized_rules.append((set(antecedent), set(consequent), confidence, category))\n",
        "    return categorized_rules\n"
      ],
      "metadata": {
        "id": "OF6pKDr-cQ4A"
      },
      "execution_count": null,
      "outputs": []
    },
    {
      "cell_type": "markdown",
      "source": [
        "# **Function to calculate lift and categorize based on lift value**"
      ],
      "metadata": {
        "id": "dgJw5mGBcXtH"
      }
    },
    {
      "cell_type": "code",
      "source": [
        "#Function to calculate lift and categorize based on lift value\n",
        "def calculate_and_categorize_lift(frequent_itemsets, antecedent, consequent):\n",
        "    support_antecedent = frequent_itemsets[antecedent]\n",
        "    support_consequent = frequent_itemsets[consequent]\n",
        "    support_both = frequent_itemsets[antecedent.union(consequent)]\n",
        "    lift = support_both / (support_antecedent * support_consequent)\n",
        "\n",
        "    if lift > 1:\n",
        "        category = \"dependent, + correlated\"\n",
        "    elif lift < 1:\n",
        "        category = \"dependent, - correlated\"\n",
        "    else:\n",
        "        category = \"Independent\"\n",
        "\n",
        "    return lift, category\n"
      ],
      "metadata": {
        "id": "3-c_hlfkcbuu"
      },
      "execution_count": null,
      "outputs": []
    },
    {
      "cell_type": "markdown",
      "source": [
        "# **Read the Excel file into a DataFrame**"
      ],
      "metadata": {
        "id": "uie2mGMzcdjh"
      }
    },
    {
      "cell_type": "code",
      "source": [
        "#Read the Excel file into a DataFrame\n",
        "file_path = '/content/H_Format.xlsx'\n",
        "data_horizontal_format = pd.read_excel(file_path, sheet_name='Sheet1')\n",
        "data = [set(str(row[1]).split(',')) for row in data_horizontal_format.itertuples(index=False)]\n",
        "items = set(item for transaction in data for item in transaction)"
      ],
      "metadata": {
        "id": "mdL0ReyYciCc"
      },
      "execution_count": null,
      "outputs": []
    },
    {
      "cell_type": "markdown",
      "source": [
        "# **Extract transactions from the DataFrame**"
      ],
      "metadata": {
        "id": "gbeqCp0icjtL"
      }
    },
    {
      "cell_type": "code",
      "source": [
        "#Extract transactions from the DataFrame\n",
        "# data = [set(str(row[1]).split(',')) for row in data_horizontal_format.itertuples(index=False)]\n",
        "print(data)"
      ],
      "metadata": {
        "id": "HmPToDyQcpRu",
        "colab": {
          "base_uri": "https://localhost:8080/"
        },
        "outputId": "978e0db4-9118-4477-ed81-565115d3a536"
      },
      "execution_count": null,
      "outputs": [
        {
          "output_type": "stream",
          "name": "stdout",
          "text": [
            "[{'E', 'N', 'M', 'K', 'Y', 'O'}, {'E', 'D', 'N', 'K', 'Y', 'O'}, {'A', 'K', 'E', 'M'}, {'M', 'C', 'K', 'U', 'Y'}, {'E', 'C', 'K', 'I', 'O'}]\n"
          ]
        }
      ]
    },
    {
      "cell_type": "markdown",
      "source": [
        "# **Extract unique items from transactions**"
      ],
      "metadata": {
        "id": "icWMYf2WcrMB"
      }
    },
    {
      "cell_type": "code",
      "source": [
        "#Extract unique items from transactions\n",
        "items = set(item for transaction in data for item in transaction)\n",
        "print(items)"
      ],
      "metadata": {
        "id": "Mh2TAxEscunM",
        "colab": {
          "base_uri": "https://localhost:8080/"
        },
        "outputId": "a6b4eee9-686f-4932-916c-9c8a5b1b8310"
      },
      "execution_count": null,
      "outputs": [
        {
          "output_type": "stream",
          "name": "stdout",
          "text": [
            "{'E', 'D', 'M', 'N', 'C', 'K', 'U', 'A', 'Y', 'I', 'O'}\n"
          ]
        }
      ]
    },
    {
      "cell_type": "markdown",
      "source": [
        "# **Set the support and confidence thresholds**"
      ],
      "metadata": {
        "id": "TiZ9NOiRcw6O"
      }
    },
    {
      "cell_type": "code",
      "source": [
        "#Set the support and confidence thresholds\n",
        "min_support = float (input(\"min_support\"))\n",
        "min_confidence = float (input(\"min_confidence\"))\n"
      ],
      "metadata": {
        "id": "lPSK-WgKc0tT",
        "colab": {
          "base_uri": "https://localhost:8080/"
        },
        "outputId": "03bc1053-c781-4996-a16f-432e6c06aae8"
      },
      "execution_count": null,
      "outputs": [
        {
          "name": "stdout",
          "output_type": "stream",
          "text": [
            "min_support3\n",
            "min_confidence.5\n"
          ]
        }
      ]
    },
    {
      "cell_type": "markdown",
      "source": [
        "# **Generate frequent itemsets for different lengths**"
      ],
      "metadata": {
        "id": "-DioPgcjc2DS"
      }
    },
    {
      "cell_type": "code",
      "source": [
        "#Generate frequent itemsets for different lengths\n",
        "frequent_itemsets = {}\n",
        "for length in range(1, len(items) + 1):\n",
        "    frequent_itemsets.update(generate_frequent_itemsets(data, items, min_support, length))\n"
      ],
      "metadata": {
        "id": "uTIKxrY8c6Kz"
      },
      "execution_count": null,
      "outputs": []
    },
    {
      "cell_type": "markdown",
      "source": [
        "\n",
        "# **Display frequent itemsets and their support counts**"
      ],
      "metadata": {
        "id": "kKKBcD5uc9jd"
      }
    },
    {
      "cell_type": "code",
      "source": [
        "#Display frequent itemsets and their support counts\n",
        "print(\"\\nSection 3: Frequent Itemsets\")\n",
        "current_level = None  # Variable to track the current level\n",
        "\n",
        "for itemset, support in frequent_itemsets.items():\n",
        "    level = len(itemset)  # Determine the level of the itemset\n",
        "\n",
        "    # Print header if the level has changed\n",
        "    if level != current_level:\n",
        "        print(f\"\\nLevel {level}:\")\n",
        "        current_level = level\n",
        "\n",
        "    # Print itemset information\n",
        "    print(f\"Itemset: {set(itemset)}, Support: {support}\")\n"
      ],
      "metadata": {
        "colab": {
          "base_uri": "https://localhost:8080/"
        },
        "id": "ReLIV4rOdD0K",
        "outputId": "9c59e051-1c9a-4dd8-e492-bef61e3c3d0d"
      },
      "execution_count": null,
      "outputs": [
        {
          "output_type": "stream",
          "name": "stdout",
          "text": [
            "\n",
            "Section 3: Frequent Itemsets\n",
            "\n",
            "Level 1:\n",
            "Itemset: {'E'}, Support: 4\n",
            "Itemset: {'M'}, Support: 3\n",
            "Itemset: {'K'}, Support: 5\n",
            "Itemset: {'Y'}, Support: 3\n",
            "Itemset: {'O'}, Support: 3\n",
            "\n",
            "Level 2:\n",
            "Itemset: {'E', 'K'}, Support: 4\n",
            "Itemset: {'E', 'O'}, Support: 3\n",
            "Itemset: {'K', 'M'}, Support: 3\n",
            "Itemset: {'K', 'Y'}, Support: 3\n",
            "Itemset: {'K', 'O'}, Support: 3\n",
            "\n",
            "Level 3:\n",
            "Itemset: {'E', 'K', 'O'}, Support: 3\n"
          ]
        }
      ]
    },
    {
      "cell_type": "markdown",
      "source": [
        "# **Generate all possible association rules for frequent itemsets**"
      ],
      "metadata": {
        "id": "GQQBxp0QdN1Y"
      }
    },
    {
      "cell_type": "code",
      "source": [
        "#Generate all possible association rules for frequent itemsets\n",
        "all_possible_rules = []\n",
        "for itemset in frequent_itemsets.keys():\n",
        "    all_possible_rules.extend(generate_all_possible_rules(itemset))\n"
      ],
      "metadata": {
        "id": "QUtTbwVldTDp"
      },
      "execution_count": null,
      "outputs": []
    },
    {
      "cell_type": "markdown",
      "source": [
        "# **Display all possible association rules**"
      ],
      "metadata": {
        "id": "ZNiUfgsXdUnu"
      }
    },
    {
      "cell_type": "code",
      "source": [
        "#Display all possible association rules\n",
        "print(\"\\nSection 4: All Possible Association Rules\")\n",
        "for antecedent, consequent in all_possible_rules:\n",
        "    print(f\"Rule: {set(antecedent)} => {set(consequent)}\")\n"
      ],
      "metadata": {
        "colab": {
          "base_uri": "https://localhost:8080/"
        },
        "id": "zFAECH7idZK1",
        "outputId": "1da68e17-0f74-4f08-bc99-225520517faa"
      },
      "execution_count": null,
      "outputs": [
        {
          "output_type": "stream",
          "name": "stdout",
          "text": [
            "\n",
            "Section 4: All Possible Association Rules\n",
            "Rule: {'E'} => {'K'}\n",
            "Rule: {'K'} => {'E'}\n",
            "Rule: {'E'} => {'O'}\n",
            "Rule: {'O'} => {'E'}\n",
            "Rule: {'K'} => {'M'}\n",
            "Rule: {'M'} => {'K'}\n",
            "Rule: {'K'} => {'Y'}\n",
            "Rule: {'Y'} => {'K'}\n",
            "Rule: {'K'} => {'O'}\n",
            "Rule: {'O'} => {'K'}\n",
            "Rule: {'E'} => {'K', 'O'}\n",
            "Rule: {'K'} => {'E', 'O'}\n",
            "Rule: {'O'} => {'E', 'K'}\n",
            "Rule: {'E', 'K'} => {'O'}\n",
            "Rule: {'E', 'O'} => {'K'}\n",
            "Rule: {'K', 'O'} => {'E'}\n"
          ]
        }
      ]
    },
    {
      "cell_type": "markdown",
      "source": [
        "# **Filter and categorize rules based on confidence**"
      ],
      "metadata": {
        "id": "B9iCOz0YdcIW"
      }
    },
    {
      "cell_type": "code",
      "source": [
        "#Filter and categorize rules based on confidence\n",
        "categorized_rules = filter_and_categorize_rules(all_possible_rules, frequent_itemsets, min_confidence)\n",
        "print(\"\\nSection 5: Categorized Rules based on Confidence\")\n",
        "for antecedent, consequent, confidence, category in categorized_rules:\n",
        "    print(f\"Rule: {set(antecedent)} => {set(consequent)}, Confidence: {confidence}, Category: {category}\")\n"
      ],
      "metadata": {
        "colab": {
          "base_uri": "https://localhost:8080/"
        },
        "id": "d8u4wZ3Fdg-i",
        "outputId": "a2d67c0e-8df7-428b-f71a-c78e94a4b021"
      },
      "execution_count": null,
      "outputs": [
        {
          "output_type": "stream",
          "name": "stdout",
          "text": [
            "\n",
            "Section 5: Categorized Rules based on Confidence\n",
            "Rule: {'E'} => {'K'}, Confidence: 1.0, Category: strong\n",
            "Rule: {'K'} => {'E'}, Confidence: 0.8, Category: strong\n",
            "Rule: {'E'} => {'O'}, Confidence: 0.75, Category: strong\n",
            "Rule: {'O'} => {'E'}, Confidence: 1.0, Category: strong\n",
            "Rule: {'K'} => {'M'}, Confidence: 0.6, Category: strong\n",
            "Rule: {'M'} => {'K'}, Confidence: 1.0, Category: strong\n",
            "Rule: {'K'} => {'Y'}, Confidence: 0.6, Category: strong\n",
            "Rule: {'Y'} => {'K'}, Confidence: 1.0, Category: strong\n",
            "Rule: {'K'} => {'O'}, Confidence: 0.6, Category: strong\n",
            "Rule: {'O'} => {'K'}, Confidence: 1.0, Category: strong\n",
            "Rule: {'E'} => {'K', 'O'}, Confidence: 0.75, Category: strong\n",
            "Rule: {'K'} => {'E', 'O'}, Confidence: 0.6, Category: strong\n",
            "Rule: {'O'} => {'E', 'K'}, Confidence: 1.0, Category: strong\n",
            "Rule: {'E', 'K'} => {'O'}, Confidence: 0.75, Category: strong\n",
            "Rule: {'E', 'O'} => {'K'}, Confidence: 1.0, Category: strong\n",
            "Rule: {'K', 'O'} => {'E'}, Confidence: 1.0, Category: strong\n"
          ]
        }
      ]
    },
    {
      "cell_type": "markdown",
      "source": [
        "# **Calculate and categorize lift for Unique Association Rules**"
      ],
      "metadata": {
        "id": "ohllmZl-diCd"
      }
    },
    {
      "cell_type": "code",
      "source": [
        "# Calculate and categorize lift for all possible association rules\n",
        "print(\"\\nSection 6: Categorized Lift for Unique Association Rules\")\n",
        "printed_rules = set()  # Set to keep track of printed rules\n",
        "\n",
        "for antecedent, consequent in all_possible_rules:\n",
        "    # Check if the rule has been printed before\n",
        "    if (antecedent, consequent) not in printed_rules and (consequent, antecedent) not in printed_rules:\n",
        "        lift, category = calculate_and_categorize_lift(frequent_itemsets, antecedent, consequent)\n",
        "        print(f\"Rule: {set(antecedent)} => {set(consequent)}, Lift: {lift}, Category: {category}\")\n",
        "\n",
        "        # Add both directions of the rule to the printed set\n",
        "        printed_rules.add((antecedent, consequent))\n",
        "        printed_rules.add((consequent, antecedent))\n"
      ],
      "metadata": {
        "colab": {
          "base_uri": "https://localhost:8080/"
        },
        "id": "AQM8fCAVdmLm",
        "outputId": "c14e16a0-80f8-4958-ea50-6e97458688f9"
      },
      "execution_count": null,
      "outputs": [
        {
          "output_type": "stream",
          "name": "stdout",
          "text": [
            "\n",
            "Section 6: Categorized Lift for Unique Association Rules\n",
            "Rule: {'E'} => {'K'}, Lift: 0.2, Category: dependent, - correlated\n",
            "Rule: {'E'} => {'O'}, Lift: 0.25, Category: dependent, - correlated\n",
            "Rule: {'K'} => {'M'}, Lift: 0.2, Category: dependent, - correlated\n",
            "Rule: {'K'} => {'Y'}, Lift: 0.2, Category: dependent, - correlated\n",
            "Rule: {'K'} => {'O'}, Lift: 0.2, Category: dependent, - correlated\n",
            "Rule: {'E'} => {'K', 'O'}, Lift: 0.25, Category: dependent, - correlated\n",
            "Rule: {'K'} => {'E', 'O'}, Lift: 0.2, Category: dependent, - correlated\n",
            "Rule: {'O'} => {'E', 'K'}, Lift: 0.25, Category: dependent, - correlated\n"
          ]
        }
      ]
    },
    {
      "cell_type": "markdown",
      "source": [
        "# **Display frequent itemsets and their support counts**"
      ],
      "metadata": {
        "id": "IcjV9ZdcU8EV"
      }
    },
    {
      "cell_type": "code",
      "source": [
        "#Display frequent itemsets and their support counts\n",
        "def display_table_with_gradient(df):\n",
        "    return df.style.background_gradient(cmap='viridis', axis=0 )\n",
        "         # df.sort_values(\"items\", ascending=False)\n",
        "# Convert frequent_itemsets to DataFrame for display\n",
        "df_frequent_itemsets = pd.DataFrame(list(frequent_itemsets.items()), columns=['Itemset', 'Support'])\n",
        "# Convert frozensets to string for better display\n",
        "df_frequent_itemsets['Itemset'] = df_frequent_itemsets['Itemset'].apply(lambda x: ', '.join(map(str, x)))\n",
        "\n",
        "# Display frequent itemsets and their support counts with style.background_gradient\n",
        "display_table_with_gradient(df_frequent_itemsets)\n"
      ],
      "metadata": {
        "colab": {
          "base_uri": "https://localhost:8080/",
          "height": 394
        },
        "id": "9Aj-sn2MUr9s",
        "outputId": "f61eab31-c86f-4081-b1c5-32b26261fc72"
      },
      "execution_count": null,
      "outputs": [
        {
          "output_type": "execute_result",
          "data": {
            "text/plain": [
              "<pandas.io.formats.style.Styler at 0x7d30b6fc2080>"
            ],
            "text/html": [
              "<style type=\"text/css\">\n",
              "#T_613e3_row0_col1, #T_613e3_row5_col1 {\n",
              "  background-color: #21918c;\n",
              "  color: #f1f1f1;\n",
              "}\n",
              "#T_613e3_row1_col1, #T_613e3_row3_col1, #T_613e3_row4_col1, #T_613e3_row6_col1, #T_613e3_row7_col1, #T_613e3_row8_col1, #T_613e3_row9_col1, #T_613e3_row10_col1 {\n",
              "  background-color: #440154;\n",
              "  color: #f1f1f1;\n",
              "}\n",
              "#T_613e3_row2_col1 {\n",
              "  background-color: #fde725;\n",
              "  color: #000000;\n",
              "}\n",
              "</style>\n",
              "<table id=\"T_613e3\" class=\"dataframe\">\n",
              "  <thead>\n",
              "    <tr>\n",
              "      <th class=\"blank level0\" >&nbsp;</th>\n",
              "      <th id=\"T_613e3_level0_col0\" class=\"col_heading level0 col0\" >Itemset</th>\n",
              "      <th id=\"T_613e3_level0_col1\" class=\"col_heading level0 col1\" >Support</th>\n",
              "    </tr>\n",
              "  </thead>\n",
              "  <tbody>\n",
              "    <tr>\n",
              "      <th id=\"T_613e3_level0_row0\" class=\"row_heading level0 row0\" >0</th>\n",
              "      <td id=\"T_613e3_row0_col0\" class=\"data row0 col0\" >E</td>\n",
              "      <td id=\"T_613e3_row0_col1\" class=\"data row0 col1\" >4</td>\n",
              "    </tr>\n",
              "    <tr>\n",
              "      <th id=\"T_613e3_level0_row1\" class=\"row_heading level0 row1\" >1</th>\n",
              "      <td id=\"T_613e3_row1_col0\" class=\"data row1 col0\" >M</td>\n",
              "      <td id=\"T_613e3_row1_col1\" class=\"data row1 col1\" >3</td>\n",
              "    </tr>\n",
              "    <tr>\n",
              "      <th id=\"T_613e3_level0_row2\" class=\"row_heading level0 row2\" >2</th>\n",
              "      <td id=\"T_613e3_row2_col0\" class=\"data row2 col0\" >K</td>\n",
              "      <td id=\"T_613e3_row2_col1\" class=\"data row2 col1\" >5</td>\n",
              "    </tr>\n",
              "    <tr>\n",
              "      <th id=\"T_613e3_level0_row3\" class=\"row_heading level0 row3\" >3</th>\n",
              "      <td id=\"T_613e3_row3_col0\" class=\"data row3 col0\" >Y</td>\n",
              "      <td id=\"T_613e3_row3_col1\" class=\"data row3 col1\" >3</td>\n",
              "    </tr>\n",
              "    <tr>\n",
              "      <th id=\"T_613e3_level0_row4\" class=\"row_heading level0 row4\" >4</th>\n",
              "      <td id=\"T_613e3_row4_col0\" class=\"data row4 col0\" >O</td>\n",
              "      <td id=\"T_613e3_row4_col1\" class=\"data row4 col1\" >3</td>\n",
              "    </tr>\n",
              "    <tr>\n",
              "      <th id=\"T_613e3_level0_row5\" class=\"row_heading level0 row5\" >5</th>\n",
              "      <td id=\"T_613e3_row5_col0\" class=\"data row5 col0\" >E, K</td>\n",
              "      <td id=\"T_613e3_row5_col1\" class=\"data row5 col1\" >4</td>\n",
              "    </tr>\n",
              "    <tr>\n",
              "      <th id=\"T_613e3_level0_row6\" class=\"row_heading level0 row6\" >6</th>\n",
              "      <td id=\"T_613e3_row6_col0\" class=\"data row6 col0\" >E, O</td>\n",
              "      <td id=\"T_613e3_row6_col1\" class=\"data row6 col1\" >3</td>\n",
              "    </tr>\n",
              "    <tr>\n",
              "      <th id=\"T_613e3_level0_row7\" class=\"row_heading level0 row7\" >7</th>\n",
              "      <td id=\"T_613e3_row7_col0\" class=\"data row7 col0\" >K, M</td>\n",
              "      <td id=\"T_613e3_row7_col1\" class=\"data row7 col1\" >3</td>\n",
              "    </tr>\n",
              "    <tr>\n",
              "      <th id=\"T_613e3_level0_row8\" class=\"row_heading level0 row8\" >8</th>\n",
              "      <td id=\"T_613e3_row8_col0\" class=\"data row8 col0\" >K, Y</td>\n",
              "      <td id=\"T_613e3_row8_col1\" class=\"data row8 col1\" >3</td>\n",
              "    </tr>\n",
              "    <tr>\n",
              "      <th id=\"T_613e3_level0_row9\" class=\"row_heading level0 row9\" >9</th>\n",
              "      <td id=\"T_613e3_row9_col0\" class=\"data row9 col0\" >K, O</td>\n",
              "      <td id=\"T_613e3_row9_col1\" class=\"data row9 col1\" >3</td>\n",
              "    </tr>\n",
              "    <tr>\n",
              "      <th id=\"T_613e3_level0_row10\" class=\"row_heading level0 row10\" >10</th>\n",
              "      <td id=\"T_613e3_row10_col0\" class=\"data row10 col0\" >E, K, O</td>\n",
              "      <td id=\"T_613e3_row10_col1\" class=\"data row10 col1\" >3</td>\n",
              "    </tr>\n",
              "  </tbody>\n",
              "</table>\n"
            ]
          },
          "metadata": {},
          "execution_count": 18
        }
      ]
    }
  ]
}