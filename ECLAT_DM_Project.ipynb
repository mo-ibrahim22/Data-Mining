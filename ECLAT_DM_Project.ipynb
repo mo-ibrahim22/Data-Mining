{
  "nbformat": 4,
  "nbformat_minor": 0,
  "metadata": {
    "colab": {
      "provenance": [],
      "include_colab_link": true
    },
    "kernelspec": {
      "name": "python3",
      "display_name": "Python 3"
    },
    "language_info": {
      "name": "python"
    }
  },
  "cells": [
    {
      "cell_type": "markdown",
      "metadata": {
        "id": "view-in-github",
        "colab_type": "text"
      },
      "source": [
        "<a href=\"https://colab.research.google.com/github/mo-ibrahim22/Data-Mining/blob/main/ECLAT_DM_Project.ipynb\" target=\"_parent\"><img src=\"https://colab.research.google.com/assets/colab-badge.svg\" alt=\"Open In Colab\"/></a>"
      ]
    },
    {
      "cell_type": "code",
      "source": [
        "# Block 1: Import necessary libraries\n",
        "import pandas as pd\n",
        "from mlxtend.preprocessing import TransactionEncoder\n",
        "import matplotlib.pyplot as plt\n",
        "import seaborn as sns\n",
        "from itertools import combinations"
      ],
      "metadata": {
        "id": "SAkakQ0S_vvB"
      },
      "execution_count": null,
      "outputs": []
    },
    {
      "cell_type": "code",
      "source": [
        "# Block 2: Read data from Excel file\n",
        "data_format = pd.read_excel(\"/content/V_Format.xlsx\")"
      ],
      "metadata": {
        "id": "e_WxB3Wb_xOf"
      },
      "execution_count": null,
      "outputs": []
    },
    {
      "cell_type": "code",
      "source": [
        "# Block 3: Check if data is in horizontal format, if yes, convert to vertical format\n",
        "\n",
        "# Check if the first column is named \"TID\"\n",
        "if data_format.columns[0] == \"TID\":\n",
        "    if data_format['items'].str.contains(',').any():\n",
        "        # Split the 'items' column into a list of items\n",
        "        data_format['items'] = data_format['items'].apply(lambda x: x.split(','))\n",
        "\n",
        "        # Create an empty DataFrame with columns 'Item name' and 'Transactions'\n",
        "        result_data = pd.DataFrame(columns=['Item name', 'Transactions'])\n",
        "\n",
        "        # Iterate through each row and update the new DataFrame\n",
        "        for index, row in data_format.iterrows():\n",
        "            for item in row['items']:\n",
        "                if not (result_data['Item name'] == item).any():\n",
        "                    result_data = pd.concat([result_data, pd.DataFrame({'Item name': [item], 'Transactions': [set()]})], ignore_index=True)\n",
        "                # Split transactions and convert to a set\n",
        "                transactions = set(map(str.strip, str(row['TID']).split(',')))\n",
        "                result_data.loc[result_data['Item name'] == item, 'Transactions'] = result_data.loc[result_data['Item name'] == item, 'Transactions'].values[0].union(transactions)\n",
        "\n",
        "else:\n",
        "    print(\"The data is already in vertical format\")\n",
        "\n",
        "    # Create an empty DataFrame with columns 'Item name' and 'Transactions'\n",
        "    result_data = pd.DataFrame(columns=['Item name', 'Transactions'])\n",
        "\n",
        "    # Iterate through each row and update the new DataFrame\n",
        "    for index, row in data_format.iterrows():\n",
        "        # Split transactions and convert to a set\n",
        "        transactions = set(map(str.strip, str(row['TID_set']).split(',')))\n",
        "        result_data = pd.concat([result_data, pd.DataFrame({'Item name': [row['itemset']], 'Transactions': [transactions]})], ignore_index=True)\n",
        "\n"
      ],
      "metadata": {
        "id": "CB49vir8_yo_",
        "colab": {
          "base_uri": "https://localhost:8080/"
        },
        "outputId": "03bef77c-53dc-4238-c693-912b776a3a54"
      },
      "execution_count": null,
      "outputs": [
        {
          "output_type": "stream",
          "name": "stdout",
          "text": [
            "The data is already in vertical format\n"
          ]
        }
      ]
    },
    {
      "cell_type": "code",
      "source": [
        "# Block 4: Print the result_data DataFrame\n",
        "print(result_data)\n"
      ],
      "metadata": {
        "colab": {
          "base_uri": "https://localhost:8080/"
        },
        "id": "mD4s8TBU_0Sw",
        "outputId": "7f570be4-b1c9-48dd-8eb7-02683e6a29f3"
      },
      "execution_count": null,
      "outputs": [
        {
          "output_type": "stream",
          "name": "stdout",
          "text": [
            "  Item name                                Transactions\n",
            "0        I1        {T900, T100, T800, T400, T700, T500}\n",
            "1        I2  {T900, T100, T600, T400, T800, T200, T300}\n",
            "2        I3        {T900, T800, T600, T700, T500, T300}\n",
            "3        I4                                {T200, T400}\n",
            "4        I5                                {T800, T100}\n"
          ]
        }
      ]
    },
    {
      "cell_type": "code",
      "source": [
        "# Block 5: Use TransactionEncoder to create a binary table\n",
        "te = TransactionEncoder()\n",
        "binary_table = te.fit_transform(result_data['Transactions'])\n",
        "binary_df = pd.DataFrame(binary_table, columns=te.columns_)\n",
        "\n",
        "# Add Item name column to the binary table\n",
        "binary_df.insert(0, 'Item name', result_data['Item name'])\n",
        "\n",
        "# Print the binary_df DataFrame\n",
        "print(binary_df)\n"
      ],
      "metadata": {
        "colab": {
          "base_uri": "https://localhost:8080/"
        },
        "id": "eqXFvW4a_2Dn",
        "outputId": "aec5486e-4f23-4d26-c376-34d74b213538"
      },
      "execution_count": null,
      "outputs": [
        {
          "output_type": "stream",
          "name": "stdout",
          "text": [
            "  Item name   T100   T200   T300   T400   T500   T600   T700   T800   T900\n",
            "0        I1   True  False  False   True   True  False   True   True   True\n",
            "1        I2   True   True   True   True  False   True  False   True   True\n",
            "2        I3  False  False   True  False   True   True   True   True   True\n",
            "3        I4  False   True  False   True  False  False  False  False  False\n",
            "4        I5   True  False  False  False  False  False  False   True  False\n"
          ]
        }
      ]
    },
    {
      "cell_type": "code",
      "source": [
        "# Block 6: Set the minimum support and confidence thresholds\n",
        "#min_support = 3\n",
        "min_support = float (input(\"min_support\"))\n",
        "#min_confidence = 0.5\n",
        "min_confidence = float (input(\"min_confidence\"))"
      ],
      "metadata": {
        "id": "B5CF8bO0_3hN",
        "colab": {
          "base_uri": "https://localhost:8080/"
        },
        "outputId": "685449ec-2187-4d57-ce88-62c7aeaff198"
      },
      "execution_count": null,
      "outputs": [
        {
          "name": "stdout",
          "output_type": "stream",
          "text": [
            "min_support2\n",
            "min_confidence.6\n"
          ]
        }
      ]
    },
    {
      "cell_type": "code",
      "source": [
        "# Block 7: Initialize a dictionary to store the support of each item\n",
        "item_support = {}\n"
      ],
      "metadata": {
        "id": "65Vn0tCw_58T"
      },
      "execution_count": null,
      "outputs": []
    },
    {
      "cell_type": "code",
      "source": [
        "# Block 8: Iterate through each row in result_data and calculate support for each item\n",
        "for index, row in result_data.iterrows():\n",
        "    item_name = row['Item name']\n",
        "    transactions = row['Transactions']\n",
        "\n",
        "    # Calculate support for each item\n",
        "    support = len(transactions)\n",
        "\n",
        "    # Store the support in the dictionary\n",
        "    item_support[item_name] = support\n",
        "\n",
        "# Print the support for each item\n",
        "print(\"Item Support:\")\n",
        "for item, support in item_support.items():\n",
        "    print(f\"{item}: {support}\")\n"
      ],
      "metadata": {
        "id": "K6n6TJW0_7l5",
        "colab": {
          "base_uri": "https://localhost:8080/"
        },
        "outputId": "f1417b72-8f03-49fd-8436-e33e2db236e4"
      },
      "execution_count": null,
      "outputs": [
        {
          "output_type": "stream",
          "name": "stdout",
          "text": [
            "Item Support:\n",
            "I1: 6\n",
            "I2: 7\n",
            "I3: 6\n",
            "I4: 2\n",
            "I5: 2\n"
          ]
        }
      ]
    },
    {
      "cell_type": "code",
      "source": [
        "# Block 9: Initialize a list to store frequent item sets\n",
        "frequent_item_sets = []\n"
      ],
      "metadata": {
        "id": "5HC_Mrfh_9TJ"
      },
      "execution_count": null,
      "outputs": []
    },
    {
      "cell_type": "code",
      "source": [
        "# Block 10: Find frequent item sets with support >= min_support\n",
        "for level in range(1, len(result_data['Item name']) + 1):\n",
        "    for item_set in combinations(result_data['Item name'], level):\n",
        "        item_set_transactions = set.intersection(*[set(result_data.loc[result_data['Item name'] == item, 'Transactions'].values[0]) for item in item_set])\n",
        "        support = len(item_set_transactions)\n",
        "\n",
        "        # Check if the support is greater than or equal to min_support\n",
        "        if support >= min_support:\n",
        "            frequent_item_sets.append({\n",
        "                'Item Set': set(item_set),  # Represent all item sets as sets\n",
        "                'Support': support\n",
        "            })\n"
      ],
      "metadata": {
        "id": "rPmDyNzj_-3Z"
      },
      "execution_count": null,
      "outputs": []
    },
    {
      "cell_type": "code",
      "source": [
        "# Block 11: Print the frequent item sets, their support, and the level\n",
        "print(\"Frequent Item Sets:\")\n",
        "current_level = None\n",
        "\n",
        "for item_set in frequent_item_sets:\n",
        "    level = len(item_set['Item Set'])  # Level is the length of the item set\n",
        "\n",
        "    # Print the level header if it's a new level\n",
        "    if level != current_level:\n",
        "        print(f\"\\nLevel {level}:\")\n",
        "\n",
        "    print(f\"Item Set: {item_set['Item Set']}, Support: {item_set['Support']}\")\n",
        "\n",
        "    # Update the current level\n",
        "    current_level = level\n"
      ],
      "metadata": {
        "id": "hkWCMYIKABeG",
        "colab": {
          "base_uri": "https://localhost:8080/"
        },
        "outputId": "ad0833ad-800c-4b48-fdf4-214dc87145af"
      },
      "execution_count": null,
      "outputs": [
        {
          "output_type": "stream",
          "name": "stdout",
          "text": [
            "Frequent Item Sets:\n",
            "\n",
            "Level 1:\n",
            "Item Set: {'I1'}, Support: 6\n",
            "Item Set: {'I2'}, Support: 7\n",
            "Item Set: {'I3'}, Support: 6\n",
            "Item Set: {'I4'}, Support: 2\n",
            "Item Set: {'I5'}, Support: 2\n",
            "\n",
            "Level 2:\n",
            "Item Set: {'I2', 'I1'}, Support: 4\n",
            "Item Set: {'I3', 'I1'}, Support: 4\n",
            "Item Set: {'I1', 'I5'}, Support: 2\n",
            "Item Set: {'I3', 'I2'}, Support: 4\n",
            "Item Set: {'I2', 'I4'}, Support: 2\n",
            "Item Set: {'I2', 'I5'}, Support: 2\n",
            "\n",
            "Level 3:\n",
            "Item Set: {'I3', 'I2', 'I1'}, Support: 2\n",
            "Item Set: {'I2', 'I1', 'I5'}, Support: 2\n"
          ]
        }
      ]
    },
    {
      "cell_type": "code",
      "source": [
        "# Block 12: Generate all possible association rules\n",
        "all_association_rules = []\n",
        "for item_set in frequent_item_sets:\n",
        "    items = item_set['Item Set']\n",
        "    num_items = len(items)\n",
        "\n",
        "    # Generate all possible combinations of antecedent and consequent\n",
        "    for i in range(1, num_items):\n",
        "        for antecedent in combinations(items, i):\n",
        "            antecedent = set(antecedent)\n",
        "            consequent = set(items) - antecedent\n",
        "\n",
        "            # Add the rule\n",
        "            all_association_rules.append({\n",
        "                'Antecedent': antecedent,\n",
        "                'Consequent': consequent,\n",
        "                'Support': item_set['Support'],\n",
        "                'Confidence': None,\n",
        "                'Rule Type': None,\n",
        "                'Lift': None,\n",
        "                'Lift Type': None\n",
        "            })"
      ],
      "metadata": {
        "id": "X_WDt1-bACUi"
      },
      "execution_count": null,
      "outputs": []
    },
    {
      "cell_type": "code",
      "source": [
        "# Block 13: Calculate confidence for all possible association rules\n",
        "for rule in all_association_rules:\n",
        "    antecedent_set = rule['Antecedent']\n",
        "\n",
        "    # Find the support for the antecedent in frequent_item_sets\n",
        "    antecedent_support = next(item_set['Support'] for item_set in frequent_item_sets if item_set['Item Set'] == antecedent_set)\n",
        "\n",
        "    rule['Confidence'] = rule['Support'] / antecedent_support\n",
        "\n",
        "    # Check if confidence is greater than or equal to min_confidence\n",
        "    if rule['Confidence'] >= min_confidence:\n",
        "        rule['Rule Type'] = \"strong\"\n",
        "    else:\n",
        "        rule['Rule Type'] = \"weak\"\n"
      ],
      "metadata": {
        "id": "vOKy64ASAEOI"
      },
      "execution_count": null,
      "outputs": []
    },
    {
      "cell_type": "code",
      "source": [
        "# Block 14: Calculate lift for all possible association rules\n",
        "for rule in all_association_rules:\n",
        "    antecedent_set = rule['Antecedent']\n",
        "    consequent_set = rule['Consequent']\n",
        "\n",
        "    # Find the support for the antecedent and consequent in frequent_item_sets\n",
        "    antecedent_support = next(item_set['Support'] for item_set in frequent_item_sets if item_set['Item Set'] == antecedent_set)\n",
        "    consequent_support = next(item_set['Support'] for item_set in frequent_item_sets if item_set['Item Set'] == consequent_set)\n",
        "\n",
        "    # Calculate lift using the formula: support_both / (support_antecedent * support_consequent)\n",
        "    rule['Lift'] = rule['Support'] / (antecedent_support * consequent_support)\n",
        "\n",
        "    # Determine the lift type based on the lift value\n",
        "    if rule['Lift'] > 1:\n",
        "        rule['Lift Type'] = \"dependent, + correlated\"\n",
        "    elif rule['Lift'] < 1:\n",
        "        rule['Lift Type'] = \"dependent, - correlated\"\n",
        "    else:\n",
        "        rule['Lift Type'] = \"Independent\"\n"
      ],
      "metadata": {
        "id": "5-xu_KYv1FC5"
      },
      "execution_count": null,
      "outputs": []
    },
    {
      "cell_type": "code",
      "source": [
        "# Block 15: Print all possible association rules\n",
        "print(\"\\nAll Possible Association Rules:\")\n",
        "for rule in all_association_rules:\n",
        "    print(f\"{rule['Antecedent']} -> {rule['Consequent']}\")\n"
      ],
      "metadata": {
        "colab": {
          "base_uri": "https://localhost:8080/"
        },
        "id": "9yJdlpw63qqa",
        "outputId": "77edf4d8-a485-46ac-e44b-929c82e76d9f"
      },
      "execution_count": null,
      "outputs": [
        {
          "output_type": "stream",
          "name": "stdout",
          "text": [
            "\n",
            "All Possible Association Rules:\n",
            "{'I2'} -> {'I1'}\n",
            "{'I1'} -> {'I2'}\n",
            "{'I3'} -> {'I1'}\n",
            "{'I1'} -> {'I3'}\n",
            "{'I1'} -> {'I5'}\n",
            "{'I5'} -> {'I1'}\n",
            "{'I3'} -> {'I2'}\n",
            "{'I2'} -> {'I3'}\n",
            "{'I2'} -> {'I4'}\n",
            "{'I4'} -> {'I2'}\n",
            "{'I2'} -> {'I5'}\n",
            "{'I5'} -> {'I2'}\n",
            "{'I3'} -> {'I2', 'I1'}\n",
            "{'I2'} -> {'I3', 'I1'}\n",
            "{'I1'} -> {'I3', 'I2'}\n",
            "{'I3', 'I2'} -> {'I1'}\n",
            "{'I3', 'I1'} -> {'I2'}\n",
            "{'I2', 'I1'} -> {'I3'}\n",
            "{'I2'} -> {'I1', 'I5'}\n",
            "{'I1'} -> {'I2', 'I5'}\n",
            "{'I5'} -> {'I2', 'I1'}\n",
            "{'I2', 'I1'} -> {'I5'}\n",
            "{'I2', 'I5'} -> {'I1'}\n",
            "{'I1', 'I5'} -> {'I2'}\n"
          ]
        }
      ]
    },
    {
      "cell_type": "code",
      "source": [
        "# Block 16: Print all possible association rules with confidence type\n",
        "print(\"\\nAll Possible Association Rules with Confidence Types:\")\n",
        "for rule in all_association_rules:\n",
        "    print(f\"{rule['Antecedent']} -> {rule['Consequent']}: Confidence={rule['Confidence']}, Type={rule['Rule Type']}\")\n"
      ],
      "metadata": {
        "id": "wQFF33h6AG96",
        "colab": {
          "base_uri": "https://localhost:8080/"
        },
        "outputId": "0a730be4-0328-418e-aa03-6b22c62a6159"
      },
      "execution_count": null,
      "outputs": [
        {
          "output_type": "stream",
          "name": "stdout",
          "text": [
            "\n",
            "All Possible Association Rules with Confidence Types:\n",
            "{'I2'} -> {'I1'}: Confidence=0.5714285714285714, Type=weak\n",
            "{'I1'} -> {'I2'}: Confidence=0.6666666666666666, Type=strong\n",
            "{'I3'} -> {'I1'}: Confidence=0.6666666666666666, Type=strong\n",
            "{'I1'} -> {'I3'}: Confidence=0.6666666666666666, Type=strong\n",
            "{'I1'} -> {'I5'}: Confidence=0.3333333333333333, Type=weak\n",
            "{'I5'} -> {'I1'}: Confidence=1.0, Type=strong\n",
            "{'I3'} -> {'I2'}: Confidence=0.6666666666666666, Type=strong\n",
            "{'I2'} -> {'I3'}: Confidence=0.5714285714285714, Type=weak\n",
            "{'I2'} -> {'I4'}: Confidence=0.2857142857142857, Type=weak\n",
            "{'I4'} -> {'I2'}: Confidence=1.0, Type=strong\n",
            "{'I2'} -> {'I5'}: Confidence=0.2857142857142857, Type=weak\n",
            "{'I5'} -> {'I2'}: Confidence=1.0, Type=strong\n",
            "{'I3'} -> {'I2', 'I1'}: Confidence=0.3333333333333333, Type=weak\n",
            "{'I2'} -> {'I3', 'I1'}: Confidence=0.2857142857142857, Type=weak\n",
            "{'I1'} -> {'I3', 'I2'}: Confidence=0.3333333333333333, Type=weak\n",
            "{'I3', 'I2'} -> {'I1'}: Confidence=0.5, Type=weak\n",
            "{'I3', 'I1'} -> {'I2'}: Confidence=0.5, Type=weak\n",
            "{'I2', 'I1'} -> {'I3'}: Confidence=0.5, Type=weak\n",
            "{'I2'} -> {'I1', 'I5'}: Confidence=0.2857142857142857, Type=weak\n",
            "{'I1'} -> {'I2', 'I5'}: Confidence=0.3333333333333333, Type=weak\n",
            "{'I5'} -> {'I2', 'I1'}: Confidence=1.0, Type=strong\n",
            "{'I2', 'I1'} -> {'I5'}: Confidence=0.5, Type=weak\n",
            "{'I2', 'I5'} -> {'I1'}: Confidence=1.0, Type=strong\n",
            "{'I1', 'I5'} -> {'I2'}: Confidence=1.0, Type=strong\n"
          ]
        }
      ]
    },
    {
      "cell_type": "code",
      "source": [
        "# Block 17: Extract strong rules\n",
        "strong_rules = [rule for rule in all_association_rules if rule['Rule Type'] == 'strong']\n"
      ],
      "metadata": {
        "id": "hIXTElsRAH80"
      },
      "execution_count": null,
      "outputs": []
    },
    {
      "cell_type": "code",
      "source": [
        "# Block 18: Print strong association rules\n",
        "print(\"\\nStrong Association Rules:\")\n",
        "for rule in strong_rules:\n",
        "    print(f\"{rule['Antecedent']} -> {rule['Consequent']}: Confidence={rule['Confidence']}, Type={rule['Rule Type']}\")\n"
      ],
      "metadata": {
        "colab": {
          "base_uri": "https://localhost:8080/"
        },
        "id": "MvNmCkW34gyI",
        "outputId": "35f4658a-6fd3-469e-8aff-25cdf446ae6b"
      },
      "execution_count": null,
      "outputs": [
        {
          "output_type": "stream",
          "name": "stdout",
          "text": [
            "\n",
            "Strong Association Rules:\n",
            "{'I1'} -> {'I2'}: Confidence=0.6666666666666666, Type=strong\n",
            "{'I3'} -> {'I1'}: Confidence=0.6666666666666666, Type=strong\n",
            "{'I1'} -> {'I3'}: Confidence=0.6666666666666666, Type=strong\n",
            "{'I5'} -> {'I1'}: Confidence=1.0, Type=strong\n",
            "{'I3'} -> {'I2'}: Confidence=0.6666666666666666, Type=strong\n",
            "{'I4'} -> {'I2'}: Confidence=1.0, Type=strong\n",
            "{'I5'} -> {'I2'}: Confidence=1.0, Type=strong\n",
            "{'I5'} -> {'I2', 'I1'}: Confidence=1.0, Type=strong\n",
            "{'I2', 'I5'} -> {'I1'}: Confidence=1.0, Type=strong\n",
            "{'I1', 'I5'} -> {'I2'}: Confidence=1.0, Type=strong\n"
          ]
        }
      ]
    },
    {
      "cell_type": "code",
      "source": [
        "# Block 19: Print unique association rules with lift type\n",
        "print(\"\\nUnique Association Rules with Lift Types:\")\n",
        "unique_rules = set()\n",
        "\n",
        "for rule in all_association_rules:\n",
        "    antecedent = set(rule['Antecedent'])\n",
        "    consequent = set(rule['Consequent'])\n",
        "    lift_type = rule['Lift Type']\n",
        "\n",
        "    # Check if the rule is unique (not already encountered)\n",
        "    if (frozenset(antecedent), frozenset(consequent), lift_type) not in unique_rules and (frozenset(consequent), frozenset(antecedent), lift_type) not in unique_rules:\n",
        "        unique_rules.add((frozenset(antecedent), frozenset(consequent), lift_type))\n",
        "        print(f\"{set(antecedent)} -> {set(consequent)}: Lift={rule['Lift']}, Lift Type={lift_type}\")\n"
      ],
      "metadata": {
        "colab": {
          "base_uri": "https://localhost:8080/"
        },
        "id": "w9i9odoNCDfx",
        "outputId": "97c77a2e-faf9-4aa6-fabe-ef1ef8374ee1"
      },
      "execution_count": null,
      "outputs": [
        {
          "output_type": "stream",
          "name": "stdout",
          "text": [
            "\n",
            "Unique Association Rules with Lift Types:\n",
            "{'I2'} -> {'I1'}: Lift=0.09523809523809523, Lift Type=dependent, - correlated\n",
            "{'I3'} -> {'I1'}: Lift=0.1111111111111111, Lift Type=dependent, - correlated\n",
            "{'I1'} -> {'I5'}: Lift=0.16666666666666666, Lift Type=dependent, - correlated\n",
            "{'I3'} -> {'I2'}: Lift=0.09523809523809523, Lift Type=dependent, - correlated\n",
            "{'I2'} -> {'I4'}: Lift=0.14285714285714285, Lift Type=dependent, - correlated\n",
            "{'I2'} -> {'I5'}: Lift=0.14285714285714285, Lift Type=dependent, - correlated\n",
            "{'I3'} -> {'I2', 'I1'}: Lift=0.08333333333333333, Lift Type=dependent, - correlated\n",
            "{'I2'} -> {'I3', 'I1'}: Lift=0.07142857142857142, Lift Type=dependent, - correlated\n",
            "{'I1'} -> {'I3', 'I2'}: Lift=0.08333333333333333, Lift Type=dependent, - correlated\n",
            "{'I2'} -> {'I1', 'I5'}: Lift=0.14285714285714285, Lift Type=dependent, - correlated\n",
            "{'I1'} -> {'I2', 'I5'}: Lift=0.16666666666666666, Lift Type=dependent, - correlated\n",
            "{'I5'} -> {'I2', 'I1'}: Lift=0.25, Lift Type=dependent, - correlated\n"
          ]
        }
      ]
    },
    {
      "cell_type": "code",
      "source": [
        "# Block 19: Convert Frequent Item Sets to DataFrame for display\n",
        "frequent_item_sets_df = pd.DataFrame(columns=['Item Set', 'Support'])\n",
        "\n",
        "for item_set in frequent_item_sets:\n",
        "    frequent_item_sets_df = pd.concat([frequent_item_sets_df, pd.DataFrame({\n",
        "        'Item Set': [item_set['Item Set']],\n",
        "        'Support': [item_set['Support']]\n",
        "    })], ignore_index=True)\n"
      ],
      "metadata": {
        "id": "8rYQFNiSAM6b"
      },
      "execution_count": null,
      "outputs": []
    },
    {
      "cell_type": "code",
      "source": [
        "# Block 20: Display Frequent Item Sets\n",
        "def highlight_max(s):\n",
        "    is_max = s == s.max()\n",
        "    return ['background-color: lightblue' if v else '' for v in is_max]\n",
        "\n",
        "\n",
        "styled_df = frequent_item_sets_df.style.background_gradient(subset=['Support'], cmap='Blues').apply(highlight_max)\n",
        "styled_df\n"
      ],
      "metadata": {
        "colab": {
          "base_uri": "https://localhost:8080/",
          "height": 457
        },
        "id": "Lo_r9ms-2wU2",
        "outputId": "f0bbe5c6-2a54-43b1-badf-5cf0b802dd04"
      },
      "execution_count": null,
      "outputs": [
        {
          "output_type": "execute_result",
          "data": {
            "text/plain": [
              "<pandas.io.formats.style.Styler at 0x7f6daddae860>"
            ],
            "text/html": [
              "<style type=\"text/css\">\n",
              "#T_c98f7_row0_col1, #T_c98f7_row2_col1 {\n",
              "  background-color: #1764ab;\n",
              "  color: #f1f1f1;\n",
              "}\n",
              "#T_c98f7_row1_col1 {\n",
              "  background-color: #08306b;\n",
              "  color: #f1f1f1;\n",
              "  background-color: lightblue;\n",
              "}\n",
              "#T_c98f7_row3_col1, #T_c98f7_row4_col1, #T_c98f7_row7_col1, #T_c98f7_row9_col1, #T_c98f7_row10_col1, #T_c98f7_row11_col1, #T_c98f7_row12_col1 {\n",
              "  background-color: #f7fbff;\n",
              "  color: #000000;\n",
              "}\n",
              "#T_c98f7_row5_col1, #T_c98f7_row6_col1, #T_c98f7_row8_col1 {\n",
              "  background-color: #94c4df;\n",
              "  color: #000000;\n",
              "}\n",
              "#T_c98f7_row12_col0 {\n",
              "  background-color: lightblue;\n",
              "}\n",
              "</style>\n",
              "<table id=\"T_c98f7\" class=\"dataframe\">\n",
              "  <thead>\n",
              "    <tr>\n",
              "      <th class=\"blank level0\" >&nbsp;</th>\n",
              "      <th id=\"T_c98f7_level0_col0\" class=\"col_heading level0 col0\" >Item Set</th>\n",
              "      <th id=\"T_c98f7_level0_col1\" class=\"col_heading level0 col1\" >Support</th>\n",
              "    </tr>\n",
              "  </thead>\n",
              "  <tbody>\n",
              "    <tr>\n",
              "      <th id=\"T_c98f7_level0_row0\" class=\"row_heading level0 row0\" >0</th>\n",
              "      <td id=\"T_c98f7_row0_col0\" class=\"data row0 col0\" >{'I1'}</td>\n",
              "      <td id=\"T_c98f7_row0_col1\" class=\"data row0 col1\" >6</td>\n",
              "    </tr>\n",
              "    <tr>\n",
              "      <th id=\"T_c98f7_level0_row1\" class=\"row_heading level0 row1\" >1</th>\n",
              "      <td id=\"T_c98f7_row1_col0\" class=\"data row1 col0\" >{'I2'}</td>\n",
              "      <td id=\"T_c98f7_row1_col1\" class=\"data row1 col1\" >7</td>\n",
              "    </tr>\n",
              "    <tr>\n",
              "      <th id=\"T_c98f7_level0_row2\" class=\"row_heading level0 row2\" >2</th>\n",
              "      <td id=\"T_c98f7_row2_col0\" class=\"data row2 col0\" >{'I3'}</td>\n",
              "      <td id=\"T_c98f7_row2_col1\" class=\"data row2 col1\" >6</td>\n",
              "    </tr>\n",
              "    <tr>\n",
              "      <th id=\"T_c98f7_level0_row3\" class=\"row_heading level0 row3\" >3</th>\n",
              "      <td id=\"T_c98f7_row3_col0\" class=\"data row3 col0\" >{'I4'}</td>\n",
              "      <td id=\"T_c98f7_row3_col1\" class=\"data row3 col1\" >2</td>\n",
              "    </tr>\n",
              "    <tr>\n",
              "      <th id=\"T_c98f7_level0_row4\" class=\"row_heading level0 row4\" >4</th>\n",
              "      <td id=\"T_c98f7_row4_col0\" class=\"data row4 col0\" >{'I5'}</td>\n",
              "      <td id=\"T_c98f7_row4_col1\" class=\"data row4 col1\" >2</td>\n",
              "    </tr>\n",
              "    <tr>\n",
              "      <th id=\"T_c98f7_level0_row5\" class=\"row_heading level0 row5\" >5</th>\n",
              "      <td id=\"T_c98f7_row5_col0\" class=\"data row5 col0\" >{'I2', 'I1'}</td>\n",
              "      <td id=\"T_c98f7_row5_col1\" class=\"data row5 col1\" >4</td>\n",
              "    </tr>\n",
              "    <tr>\n",
              "      <th id=\"T_c98f7_level0_row6\" class=\"row_heading level0 row6\" >6</th>\n",
              "      <td id=\"T_c98f7_row6_col0\" class=\"data row6 col0\" >{'I3', 'I1'}</td>\n",
              "      <td id=\"T_c98f7_row6_col1\" class=\"data row6 col1\" >4</td>\n",
              "    </tr>\n",
              "    <tr>\n",
              "      <th id=\"T_c98f7_level0_row7\" class=\"row_heading level0 row7\" >7</th>\n",
              "      <td id=\"T_c98f7_row7_col0\" class=\"data row7 col0\" >{'I1', 'I5'}</td>\n",
              "      <td id=\"T_c98f7_row7_col1\" class=\"data row7 col1\" >2</td>\n",
              "    </tr>\n",
              "    <tr>\n",
              "      <th id=\"T_c98f7_level0_row8\" class=\"row_heading level0 row8\" >8</th>\n",
              "      <td id=\"T_c98f7_row8_col0\" class=\"data row8 col0\" >{'I3', 'I2'}</td>\n",
              "      <td id=\"T_c98f7_row8_col1\" class=\"data row8 col1\" >4</td>\n",
              "    </tr>\n",
              "    <tr>\n",
              "      <th id=\"T_c98f7_level0_row9\" class=\"row_heading level0 row9\" >9</th>\n",
              "      <td id=\"T_c98f7_row9_col0\" class=\"data row9 col0\" >{'I2', 'I4'}</td>\n",
              "      <td id=\"T_c98f7_row9_col1\" class=\"data row9 col1\" >2</td>\n",
              "    </tr>\n",
              "    <tr>\n",
              "      <th id=\"T_c98f7_level0_row10\" class=\"row_heading level0 row10\" >10</th>\n",
              "      <td id=\"T_c98f7_row10_col0\" class=\"data row10 col0\" >{'I2', 'I5'}</td>\n",
              "      <td id=\"T_c98f7_row10_col1\" class=\"data row10 col1\" >2</td>\n",
              "    </tr>\n",
              "    <tr>\n",
              "      <th id=\"T_c98f7_level0_row11\" class=\"row_heading level0 row11\" >11</th>\n",
              "      <td id=\"T_c98f7_row11_col0\" class=\"data row11 col0\" >{'I3', 'I2', 'I1'}</td>\n",
              "      <td id=\"T_c98f7_row11_col1\" class=\"data row11 col1\" >2</td>\n",
              "    </tr>\n",
              "    <tr>\n",
              "      <th id=\"T_c98f7_level0_row12\" class=\"row_heading level0 row12\" >12</th>\n",
              "      <td id=\"T_c98f7_row12_col0\" class=\"data row12 col0\" >{'I2', 'I1', 'I5'}</td>\n",
              "      <td id=\"T_c98f7_row12_col1\" class=\"data row12 col1\" >2</td>\n",
              "    </tr>\n",
              "  </tbody>\n",
              "</table>\n"
            ]
          },
          "metadata": {},
          "execution_count": 21
        }
      ]
    }
  ]
}